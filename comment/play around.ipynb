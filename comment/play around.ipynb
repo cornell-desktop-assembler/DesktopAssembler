{
 "cells": [
  {
   "cell_type": "code",
   "execution_count": 1,
   "metadata": {},
   "outputs": [],
   "source": [
    "import numpy as np\n",
    "import pandas as pd"
   ]
  },
  {
   "cell_type": "code",
   "execution_count": 2,
   "metadata": {},
   "outputs": [],
   "source": [
    "import nltk"
   ]
  },
  {
   "cell_type": "code",
   "execution_count": 3,
   "metadata": {},
   "outputs": [],
   "source": [
    "df = pd.read_csv(\"all sephora.csv\", encoding=\"utf-8\", index_col=0)"
   ]
  },
  {
   "cell_type": "code",
   "execution_count": 8,
   "metadata": {},
   "outputs": [
    {
     "name": "stdout",
     "output_type": "stream",
     "text": [
      "eyeColor {nan, 'green', 'gray', 'hazel', 'blue', 'brown'}\n",
      "hairColor {nan, 'gray', 'auburn', 'blonde', 'black', 'red', 'brunette'}\n",
      "skinTone {nan, 'ebony', 'deep', 'medium', 'dark', 'porcelain', 'fair', 'light', 'olive', 'tan'}\n",
      "skinType {nan, 'combination', 'normal', 'dry', 'oily'}\n"
     ]
    }
   ],
   "source": [
    "for col in [\"eyeColor\", \"hairColor\", \"skinTone\", \"skinType\"]:\n",
    "    print(col, set(df[col]))\n"
   ]
  },
  {
   "cell_type": "code",
   "execution_count": 16,
   "metadata": {},
   "outputs": [
    {
     "name": "stdout",
     "output_type": "stream",
     "text": [
      "             AuthorId : 100.00% [157456/157456]\n",
      "          Helpfulness :  29.00% [ 45662/157456]\n",
      "                   Id : 100.00% [157456/157456]\n",
      " LastModificationTime : 100.00% [157456/157456]\n",
      "            ProductId : 100.00% [157456/157456]\n",
      "               Rating : 100.00% [157456/157456]\n",
      "          RatingRange : 100.00% [157456/157456]\n",
      "           ReviewText : 100.00% [157456/157456]\n",
      "         UserNickname :  99.20% [156193/157456]\n",
      "                  age :  38.82% [ 61130/157456]\n",
      "             eyeColor :  68.55% [107934/157456]\n",
      "            hairColor :  37.27% [ 58677/157456]\n",
      "             skinTone :  69.67% [109700/157456]\n",
      "             skinType :  37.92% [ 59703/157456]\n"
     ]
    }
   ],
   "source": [
    "for col in df.columns:\n",
    "    print(f\"{col:>21s} : {sum(~df[col].isnull())/len(df)*100:>6.2f}% [{sum(~df[col].isnull()):>6d}/{len(df)}]\")"
   ]
  },
  {
   "cell_type": "code",
   "execution_count": 17,
   "metadata": {},
   "outputs": [],
   "source": [
    "from nltk.tokenize import TreebankWordTokenizer"
   ]
  },
  {
   "cell_type": "code",
   "execution_count": 18,
   "metadata": {},
   "outputs": [],
   "source": [
    "treebank_tokenizer = TreebankWordTokenizer()"
   ]
  },
  {
   "cell_type": "code",
   "execution_count": 19,
   "metadata": {},
   "outputs": [
    {
     "data": {
      "text/plain": [
       "['a', 'more', 'general-purpose', 'tokenizer', '!']"
      ]
     },
     "execution_count": 19,
     "metadata": {},
     "output_type": "execute_result"
    }
   ],
   "source": [
    "treebank_tokenizer.tokenize(\"a more general-purpose tokenizer!\")"
   ]
  },
  {
   "cell_type": "code",
   "execution_count": null,
   "metadata": {},
   "outputs": [],
   "source": []
  }
 ],
 "metadata": {
  "kernelspec": {
   "display_name": "Python 3",
   "language": "python",
   "name": "python3"
  },
  "language_info": {
   "codemirror_mode": {
    "name": "ipython",
    "version": 3
   },
   "file_extension": ".py",
   "mimetype": "text/x-python",
   "name": "python",
   "nbconvert_exporter": "python",
   "pygments_lexer": "ipython3",
   "version": "3.6.7"
  }
 },
 "nbformat": 4,
 "nbformat_minor": 2
}
